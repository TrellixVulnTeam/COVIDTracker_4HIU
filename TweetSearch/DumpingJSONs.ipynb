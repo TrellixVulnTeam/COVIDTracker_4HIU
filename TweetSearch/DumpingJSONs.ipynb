{
 "cells": [
  {
   "cell_type": "code",
   "execution_count": 175,
   "metadata": {},
   "outputs": [],
   "source": [
    "!source activate twitterCOVID\n",
    "\n",
    "import json"
   ]
  },
  {
   "cell_type": "markdown",
   "metadata": {},
   "source": [
    "## Go to [http://geojson.io/](http://geojson.io/) and select a region you like, copy the json file on the right panel and paste it below, give a name to that region and run this whole file"
   ]
  },
  {
   "cell_type": "code",
   "execution_count": 170,
   "metadata": {},
   "outputs": [
    {
     "name": "stdout",
     "output_type": "stream",
     "text": [
      "What region are you dumping data for?\n",
      "London\n"
     ]
    }
   ],
   "source": [
    "region_to_dump = input(\"What region are you dumping data for?\\n\").lower()"
   ]
  },
  {
   "cell_type": "code",
   "execution_count": 171,
   "metadata": {
    "scrolled": true
   },
   "outputs": [
    {
     "name": "stdout",
     "output_type": "stream",
     "text": [
      "Please paste your json file to be dumped:\n",
      "{   \"type\": \"FeatureCollection\",   \"features\": [     {       \"type\": \"Feature\",       \"properties\": {},       \"geometry\": {         \"type\": \"Polygon\",         \"coordinates\": [           [             [               -0.545196533203125,               51.26019611626714             ],             [               0.298004150390625,               51.26019611626714             ],             [               0.298004150390625,               51.72022261695929             ],             [               -0.545196533203125,               51.72022261695929             ],             [               -0.545196533203125,               51.26019611626714             ]           ]         ]       }     }   ] }\n"
     ]
    }
   ],
   "source": [
    "json_to_dump = input(\"Please paste your json file to be dumped:\\n\").replace(\"\\n\",\"\").replace(\" \",\"\")"
   ]
  },
  {
   "cell_type": "code",
   "execution_count": 172,
   "metadata": {},
   "outputs": [],
   "source": [
    "dic = json.loads(json_to_dump)"
   ]
  },
  {
   "cell_type": "code",
   "execution_count": 173,
   "metadata": {},
   "outputs": [],
   "source": [
    "SW_long = dic[\"features\"][0]['geometry']['coordinates'][0][0][0]\n",
    "SW_lat = dic[\"features\"][0]['geometry']['coordinates'][0][0][1]\n",
    "NE_long = dic[\"features\"][0]['geometry']['coordinates'][0][2][0]\n",
    "NE_lat = dic[\"features\"][0]['geometry']['coordinates'][0][2][1]"
   ]
  },
  {
   "cell_type": "code",
   "execution_count": 174,
   "metadata": {},
   "outputs": [],
   "source": [
    "with open(\"RegionCoords.json\", 'a') as file: # a mode stands for appending so that file is not overwritten\n",
    "    file.write('{\"Region\": \"'+region_to_dump+\n",
    "               '\",\"SWlongitude\":'+str(SW_long)+\n",
    "               ',\"SWlatitude\":'+str(SW_lat)+\n",
    "               ',\"NElongitude\":'+str(NE_long)+\n",
    "               ',\"NElatitude\":'+str(NE_lat)+'}\\n')"
   ]
  },
  {
   "cell_type": "markdown",
   "metadata": {},
   "source": [
    "## Load file like so"
   ]
  },
  {
   "cell_type": "code",
   "execution_count": 176,
   "metadata": {},
   "outputs": [],
   "source": [
    "import pandas as pd\n",
    "dic = []\n",
    "for line in open(\"RegionCoords.json\",'r'):\n",
    "    dic.append(json.loads(line))"
   ]
  },
  {
   "cell_type": "code",
   "execution_count": 177,
   "metadata": {},
   "outputs": [
    {
     "data": {
      "text/plain": [
       "[{'Region': 'switzerland',\n",
       "  'SWlongitude': 5.756835937499999,\n",
       "  'SWlatitude': 45.744526980468436,\n",
       "  'NElongitude': 10.72265625,\n",
       "  'NElatitude': 47.85740289465826},\n",
       " {'Region': 'london',\n",
       "  'SWlongitude': -0.545196533203125,\n",
       "  'SWlatitude': 51.26019611626714,\n",
       "  'NElongitude': 0.298004150390625,\n",
       "  'NElatitude': 51.72022261695929}]"
      ]
     },
     "execution_count": 177,
     "metadata": {},
     "output_type": "execute_result"
    }
   ],
   "source": [
    "dic"
   ]
  },
  {
   "cell_type": "code",
   "execution_count": 178,
   "metadata": {},
   "outputs": [],
   "source": [
    "pddf = pd.DataFrame(dic)"
   ]
  }
 ],
 "metadata": {
  "kernelspec": {
   "display_name": "TwitterCOVID",
   "language": "python",
   "name": "twittercovid"
  },
  "language_info": {
   "codemirror_mode": {
    "name": "ipython",
    "version": 3
   },
   "file_extension": ".py",
   "mimetype": "text/x-python",
   "name": "python",
   "nbconvert_exporter": "python",
   "pygments_lexer": "ipython3",
   "version": "3.8.2"
  }
 },
 "nbformat": 4,
 "nbformat_minor": 4
}
