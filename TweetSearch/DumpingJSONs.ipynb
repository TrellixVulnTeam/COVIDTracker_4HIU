{
 "cells": [
  {
   "cell_type": "code",
   "execution_count": 175,
   "metadata": {},
   "outputs": [],
   "source": [
    "!source activate twitterCOVID\n",
    "\n",
    "import json"
   ]
  },
  {
   "cell_type": "markdown",
   "metadata": {},
   "source": [
    "## Go to [http://geojson.io/](http://geojson.io/) and select a region you like, copy the json file on the right panel and paste it below, give a name to that region and run this whole file"
   ]
  },
  {
   "cell_type": "code",
   "execution_count": 170,
   "metadata": {},
   "outputs": [
    {
     "name": "stdout",
     "output_type": "stream",
     "text": [
      "What region are you dumping data for?\n",
      "London\n"
     ]
    }
   ],
   "source": [
    "region_to_dump = input(\"What region are you dumping data for?\\n\").lower()"
   ]
  },
  {
   "cell_type": "code",
   "execution_count": 171,
   "metadata": {
    "scrolled": true
   },
   "outputs": [
    {
     "name": "stdout",
     "output_type": "stream",
     "text": [
      "Please paste your json file to be dumped:\n",
      "{   \"type\": \"FeatureCollection\",   \"features\": [     {       \"type\": \"Feature\",       \"properties\": {},       \"geometry\": {         \"type\": \"Polygon\",         \"coordinates\": [           [             [               -0.545196533203125,               51.26019611626714             ],             [               0.298004150390625,               51.26019611626714             ],             [               0.298004150390625,               51.72022261695929             ],             [               -0.545196533203125,               51.72022261695929             ],             [               -0.545196533203125,               51.26019611626714             ]           ]         ]       }     }   ] }\n"
     ]
    }
   ],
   "source": [
    "json_to_dump = input(\"Please paste your json file to be dumped:\\n\").replace(\"\\n\",\"\").replace(\" \",\"\")"
   ]
  },
  {
   "cell_type": "code",
   "execution_count": 172,
   "metadata": {},
   "outputs": [],
   "source": [
    "dic = json.loads(json_to_dump)"
   ]
  },
  {
   "cell_type": "code",
   "execution_count": 173,
   "metadata": {},
   "outputs": [],
   "source": [
    "SW_long = dic[\"features\"][0]['geometry']['coordinates'][0][0][0]\n",
    "SW_lat = dic[\"features\"][0]['geometry']['coordinates'][0][0][1]\n",
    "NE_long = dic[\"features\"][0]['geometry']['coordinates'][0][2][0]\n",
    "NE_lat = dic[\"features\"][0]['geometry']['coordinates'][0][2][1]"
   ]
  },
  {
   "cell_type": "code",
   "execution_count": 174,
   "metadata": {},
   "outputs": [],
   "source": [
    "with open(\"RegionCoords.json\", 'a') as file: # a mode stands for appending so that file is not overwritten\n",
    "    file.write('{\"Region\": \"'+region_to_dump+\n",
    "               '\",\"SWlongitude\":'+str(SW_long)+\n",
    "               ',\"SWlatitude\":'+str(SW_lat)+\n",
    "               ',\"NElongitude\":'+str(NE_long)+\n",
    "               ',\"NElatitude\":'+str(NE_lat)+'}\\n')"
   ]
  },
  {
   "cell_type": "markdown",
   "metadata": {},
   "source": [
    "## Load file like so"
   ]
  },
  {
   "cell_type": "code",
   "execution_count": 176,
   "metadata": {},
   "outputs": [],
   "source": [
    "import pandas as pd\n",
    "dic = []\n",
    "for line in open(\"RegionCoords.json\",'r'):\n",
    "    dic.append(json.loads(line))"
   ]
  },
  {
   "cell_type": "code",
   "execution_count": 177,
   "metadata": {},
   "outputs": [
    {
     "data": {
      "text/plain": [
       "[{'Region': 'switzerland',\n",
       "  'SWlongitude': 5.756835937499999,\n",
       "  'SWlatitude': 45.744526980468436,\n",
       "  'NElongitude': 10.72265625,\n",
       "  'NElatitude': 47.85740289465826},\n",
       " {'Region': 'london',\n",
       "  'SWlongitude': -0.545196533203125,\n",
       "  'SWlatitude': 51.26019611626714,\n",
       "  'NElongitude': 0.298004150390625,\n",
       "  'NElatitude': 51.72022261695929}]"
      ]
     },
     "execution_count": 177,
     "metadata": {},
     "output_type": "execute_result"
    }
   ],
   "source": [
    "dic"
   ]
  },
  {
   "cell_type": "code",
   "execution_count": 178,
   "metadata": {},
   "outputs": [],
   "source": [
    "pddf = pd.DataFrame(dic)"
   ]
  },
  {
   "cell_type": "code",
   "execution_count": 184,
   "metadata": {},
   "outputs": [
    {
     "ename": "ValueError",
     "evalue": "The truth value of a Series is ambiguous. Use a.empty, a.bool(), a.item(), a.any() or a.all().",
     "output_type": "error",
     "traceback": [
      "\u001b[0;31m---------------------------------------------------------------------------\u001b[0m",
      "\u001b[0;31mValueError\u001b[0m                                Traceback (most recent call last)",
      "\u001b[0;32m<ipython-input-184-23e41ac81c0b>\u001b[0m in \u001b[0;36m<module>\u001b[0;34m\u001b[0m\n\u001b[0;32m----> 1\u001b[0;31m \u001b[0mlist\u001b[0m\u001b[0;34m(\u001b[0m\u001b[0mpddf\u001b[0m\u001b[0;34m[\u001b[0m\u001b[0mpddf\u001b[0m\u001b[0;34m[\u001b[0m\u001b[0;34m\"Region\"\u001b[0m\u001b[0;34m]\u001b[0m \u001b[0;32min\u001b[0m \u001b[0;34m[\u001b[0m\u001b[0;34m\"switzerland\"\u001b[0m\u001b[0;34m,\u001b[0m\u001b[0;34m\"london\"\u001b[0m\u001b[0;34m]\u001b[0m\u001b[0;34m]\u001b[0m\u001b[0;34m.\u001b[0m\u001b[0mvalues\u001b[0m\u001b[0;34m[\u001b[0m\u001b[0;36m0\u001b[0m\u001b[0;34m]\u001b[0m\u001b[0;34m[\u001b[0m\u001b[0;36m1\u001b[0m\u001b[0;34m:\u001b[0m\u001b[0;34m]\u001b[0m\u001b[0;34m)\u001b[0m\u001b[0;34m\u001b[0m\u001b[0;34m\u001b[0m\u001b[0m\n\u001b[0m",
      "\u001b[0;32m/opt/anaconda3/envs/twitterCOVID/lib/python3.8/site-packages/pandas/core/generic.py\u001b[0m in \u001b[0;36m__nonzero__\u001b[0;34m(self)\u001b[0m\n\u001b[1;32m   1476\u001b[0m \u001b[0;34m\u001b[0m\u001b[0m\n\u001b[1;32m   1477\u001b[0m     \u001b[0;32mdef\u001b[0m \u001b[0m__nonzero__\u001b[0m\u001b[0;34m(\u001b[0m\u001b[0mself\u001b[0m\u001b[0;34m)\u001b[0m\u001b[0;34m:\u001b[0m\u001b[0;34m\u001b[0m\u001b[0;34m\u001b[0m\u001b[0m\n\u001b[0;32m-> 1478\u001b[0;31m         raise ValueError(\n\u001b[0m\u001b[1;32m   1479\u001b[0m             \u001b[0;34mf\"The truth value of a {type(self).__name__} is ambiguous. \"\u001b[0m\u001b[0;34m\u001b[0m\u001b[0;34m\u001b[0m\u001b[0m\n\u001b[1;32m   1480\u001b[0m             \u001b[0;34m\"Use a.empty, a.bool(), a.item(), a.any() or a.all().\"\u001b[0m\u001b[0;34m\u001b[0m\u001b[0;34m\u001b[0m\u001b[0m\n",
      "\u001b[0;31mValueError\u001b[0m: The truth value of a Series is ambiguous. Use a.empty, a.bool(), a.item(), a.any() or a.all()."
     ]
    }
   ],
   "source": [
    "list(pddf[pddf[\"Region\"] in [\"switzerland\",\"london\"]].values[0][1:])"
   ]
  },
  {
   "cell_type": "code",
   "execution_count": 153,
   "metadata": {},
   "outputs": [
    {
     "data": {
      "text/plain": [
       "0    True\n",
       "Name: Region, dtype: bool"
      ]
     },
     "execution_count": 153,
     "metadata": {},
     "output_type": "execute_result"
    }
   ],
   "source": [
    "pddf[\"Region\"]==\"switzerland\""
   ]
  },
  {
   "cell_type": "code",
   "execution_count": 234,
   "metadata": {},
   "outputs": [
    {
     "data": {
      "text/plain": [
       "{'italy'}"
      ]
     },
     "execution_count": 234,
     "metadata": {},
     "output_type": "execute_result"
    }
   ],
   "source": [
    "set([\"london\", \"switzerland\", \"italy\"]).difference(set(pddf[\"Region\"]))"
   ]
  },
  {
   "cell_type": "code",
   "execution_count": 235,
   "metadata": {},
   "outputs": [],
   "source": [
    "tst =list(pddf[pddf[\"Region\"].values == list(set(pddf[\"Region\"]) & set([\"london\", \"switzerland\", \"italy\"]))].values)"
   ]
  },
  {
   "cell_type": "code",
   "execution_count": 195,
   "metadata": {},
   "outputs": [
    {
     "data": {
      "text/plain": [
       "array(['switzerland', 'london'], dtype=object)"
      ]
     },
     "execution_count": 195,
     "metadata": {},
     "output_type": "execute_result"
    }
   ],
   "source": [
    "pddf[\"Region\"].values"
   ]
  },
  {
   "cell_type": "code",
   "execution_count": 202,
   "metadata": {},
   "outputs": [
    {
     "data": {
      "text/plain": [
       "array({'switzerland', 'london'}, dtype=object)"
      ]
     },
     "execution_count": 202,
     "metadata": {},
     "output_type": "execute_result"
    }
   ],
   "source": [
    "np.array(set(pddf[\"Region\"]) & set([\"london\", \"switzerland\", \"italy\"]))"
   ]
  },
  {
   "cell_type": "code",
   "execution_count": 201,
   "metadata": {},
   "outputs": [],
   "source": [
    "import numpy as np"
   ]
  },
  {
   "cell_type": "code",
   "execution_count": 211,
   "metadata": {},
   "outputs": [
    {
     "data": {
      "text/plain": [
       "[array(['switzerland', 5.756835937499999, 45.744526980468436, 10.72265625,\n",
       "        47.85740289465826], dtype=object),\n",
       " array(['london', -0.545196533203125, 51.26019611626714, 0.298004150390625,\n",
       "        51.72022261695929], dtype=object)]"
      ]
     },
     "execution_count": 211,
     "metadata": {},
     "output_type": "execute_result"
    }
   ],
   "source": [
    "tst"
   ]
  },
  {
   "cell_type": "code",
   "execution_count": 222,
   "metadata": {},
   "outputs": [],
   "source": [
    "coords = [coords[1:] for coords in tst]"
   ]
  },
  {
   "cell_type": "code",
   "execution_count": 223,
   "metadata": {},
   "outputs": [
    {
     "data": {
      "text/plain": [
       "[array([5.756835937499999, 45.744526980468436, 10.72265625,\n",
       "        47.85740289465826], dtype=object),\n",
       " array([-0.545196533203125, 51.26019611626714, 0.298004150390625,\n",
       "        51.72022261695929], dtype=object)]"
      ]
     },
     "execution_count": 223,
     "metadata": {},
     "output_type": "execute_result"
    }
   ],
   "source": [
    "coords"
   ]
  },
  {
   "cell_type": "code",
   "execution_count": 219,
   "metadata": {},
   "outputs": [],
   "source": [
    "nptst = np.array(tst)"
   ]
  },
  {
   "cell_type": "code",
   "execution_count": 220,
   "metadata": {},
   "outputs": [
    {
     "data": {
      "text/plain": [
       "array([['switzerland', 5.756835937499999, 45.744526980468436,\n",
       "        10.72265625, 47.85740289465826],\n",
       "       ['london', -0.545196533203125, 51.26019611626714,\n",
       "        0.298004150390625, 51.72022261695929]], dtype=object)"
      ]
     },
     "execution_count": 220,
     "metadata": {},
     "output_type": "execute_result"
    }
   ],
   "source": [
    "nptst"
   ]
  },
  {
   "cell_type": "code",
   "execution_count": 221,
   "metadata": {},
   "outputs": [
    {
     "data": {
      "text/plain": [
       "array(['switzerland', 5.756835937499999, 45.744526980468436, 10.72265625,\n",
       "       47.85740289465826, 'london', -0.545196533203125, 51.26019611626714,\n",
       "       0.298004150390625, 51.72022261695929], dtype=object)"
      ]
     },
     "execution_count": 221,
     "metadata": {},
     "output_type": "execute_result"
    }
   ],
   "source": [
    "nptst.flatten()"
   ]
  },
  {
   "cell_type": "code",
   "execution_count": null,
   "metadata": {},
   "outputs": [],
   "source": []
  }
 ],
 "metadata": {
  "kernelspec": {
   "display_name": "TwitterCOVID",
   "language": "python",
   "name": "twittercovid"
  },
  "language_info": {
   "codemirror_mode": {
    "name": "ipython",
    "version": 3
   },
   "file_extension": ".py",
   "mimetype": "text/x-python",
   "name": "python",
   "nbconvert_exporter": "python",
   "pygments_lexer": "ipython3",
   "version": "3.8.2"
  }
 },
 "nbformat": 4,
 "nbformat_minor": 4
}
