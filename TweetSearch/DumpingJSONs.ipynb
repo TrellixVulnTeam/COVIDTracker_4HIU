{
 "cells": [
  {
   "cell_type": "code",
   "execution_count": 90,
   "metadata": {},
   "outputs": [],
   "source": [
    "!source activate twitterCOVID\n",
    "\n",
    "import json"
   ]
  },
  {
   "cell_type": "markdown",
   "metadata": {},
   "source": [
    "## Go to [http://geojson.io/](http://geojson.io/) and select a region you like, copy the json file on the right panel and paste it below, give a name to that region and run this whole file"
   ]
  },
  {
   "cell_type": "code",
   "execution_count": 130,
   "metadata": {},
   "outputs": [
    {
     "name": "stdout",
     "output_type": "stream",
     "text": [
      "What region are you dumping data for?\n",
      "Switzerland\n"
     ]
    }
   ],
   "source": [
    "region_to_dump = input(\"What region are you dumping data for?\\n\").lower()"
   ]
  },
  {
   "cell_type": "code",
   "execution_count": 131,
   "metadata": {
    "scrolled": true
   },
   "outputs": [
    {
     "name": "stdout",
     "output_type": "stream",
     "text": [
      "Please paste your json file to be dumped:\n",
      "{   \"type\": \"FeatureCollection\",   \"features\": [     {       \"type\": \"Feature\",       \"properties\": {         \"stroke\": \"#555555\",         \"stroke-width\": 2,         \"stroke-opacity\": 1,         \"fill\": \"#555555\",         \"fill-opacity\": 0.5       },       \"geometry\": {         \"type\": \"Polygon\",         \"coordinates\": [           [             [               5.756835937499999,               45.744526980468436             ],             [               10.72265625,               45.744526980468436             ],             [               10.72265625,               47.85740289465826             ],             [               5.756835937499999,               47.85740289465826             ],             [               5.756835937499999,               45.744526980468436             ]           ]         ]       }     }   ] }\n"
     ]
    }
   ],
   "source": [
    "json_to_dump = input(\"Please paste your json file to be dumped:\\n\").replace(\"\\n\",\"\").replace(\" \",\"\")"
   ]
  },
  {
   "cell_type": "code",
   "execution_count": 132,
   "metadata": {},
   "outputs": [],
   "source": [
    "dic = json.loads(json_to_dump)"
   ]
  },
  {
   "cell_type": "code",
   "execution_count": 133,
   "metadata": {},
   "outputs": [],
   "source": [
    "SW_long = dic[\"features\"][0]['geometry']['coordinates'][0][0][0]\n",
    "SW_lat = dic[\"features\"][0]['geometry']['coordinates'][0][0][1]\n",
    "NE_long = dic[\"features\"][0]['geometry']['coordinates'][0][2][0]\n",
    "NE_lat = dic[\"features\"][0]['geometry']['coordinates'][0][2][1]"
   ]
  },
  {
   "cell_type": "code",
   "execution_count": 134,
   "metadata": {},
   "outputs": [],
   "source": [
    "with open(\"RegionCoords.json\", 'a') as file: # a mode stands for appending so that file is not overwritten\n",
    "    file.write('{\"Region\": \"'+region_to_dump+\n",
    "               '\",\"SWlongitude\":'+str(SW_long)+\n",
    "               ',\"SWlatitude\":'+str(SW_lat)+\n",
    "               ',\"NElongitude\":'+str(NE_long)+\n",
    "               ',\"NElatitude\":'+str(NE_lat)+'}\\n')"
   ]
  },
  {
   "cell_type": "markdown",
   "metadata": {},
   "source": [
    "## Load file like so"
   ]
  },
  {
   "cell_type": "code",
   "execution_count": 135,
   "metadata": {},
   "outputs": [],
   "source": [
    "import pandas as pd\n",
    "dic = []\n",
    "for line in open(\"RegionCoords.json\",'r'):\n",
    "    dic.append(json.loads(line))"
   ]
  },
  {
   "cell_type": "code",
   "execution_count": 136,
   "metadata": {},
   "outputs": [
    {
     "data": {
      "text/plain": [
       "[{'Region': 'switzerland',\n",
       "  'SWlongitude': 5.756835937499999,\n",
       "  'SWlatitude': 45.744526980468436,\n",
       "  'NElongitude': 10.72265625,\n",
       "  'NElatitude': 47.85740289465826}]"
      ]
     },
     "execution_count": 136,
     "metadata": {},
     "output_type": "execute_result"
    }
   ],
   "source": [
    "dic"
   ]
  },
  {
   "cell_type": "code",
   "execution_count": 138,
   "metadata": {},
   "outputs": [],
   "source": [
    "pddf = pd.DataFrame(dic)"
   ]
  },
  {
   "cell_type": "code",
   "execution_count": 168,
   "metadata": {},
   "outputs": [
    {
     "data": {
      "text/plain": [
       "list"
      ]
     },
     "execution_count": 168,
     "metadata": {},
     "output_type": "execute_result"
    }
   ],
   "source": [
    "type(list(pddf[pddf[\"Region\"]==\"switzerland\"].values[0][1:]))"
   ]
  },
  {
   "cell_type": "code",
   "execution_count": 153,
   "metadata": {},
   "outputs": [
    {
     "data": {
      "text/plain": [
       "0    True\n",
       "Name: Region, dtype: bool"
      ]
     },
     "execution_count": 153,
     "metadata": {},
     "output_type": "execute_result"
    }
   ],
   "source": [
    "pddf[\"Region\"]==\"switzerland\""
   ]
  },
  {
   "cell_type": "code",
   "execution_count": null,
   "metadata": {},
   "outputs": [],
   "source": []
  }
 ],
 "metadata": {
  "kernelspec": {
   "display_name": "TwitterCOVID",
   "language": "python",
   "name": "twittercovid"
  },
  "language_info": {
   "codemirror_mode": {
    "name": "ipython",
    "version": 3
   },
   "file_extension": ".py",
   "mimetype": "text/x-python",
   "name": "python",
   "nbconvert_exporter": "python",
   "pygments_lexer": "ipython3",
   "version": "3.8.2"
  }
 },
 "nbformat": 4,
 "nbformat_minor": 4
}
